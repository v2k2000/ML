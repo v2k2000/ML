{
 "cells": [
  {
   "cell_type": "markdown",
   "id": "1a35e88a-4ef9-4984-8af0-f9f273ccd241",
   "metadata": {},
   "source": [
    "## 선형 회귀\n",
    "트레인 데이터의 한계 극복\n",
    "선그리기가 어려운데 프로그램이 해줌"
   ]
  },
  {
   "cell_type": "code",
   "execution_count": 3,
   "id": "98f03850-6364-443e-824f-be47bd908cce",
   "metadata": {},
   "outputs": [],
   "source": [
    "import pandas as pd"
   ]
  },
  {
   "cell_type": "code",
   "execution_count": 4,
   "id": "c842d68c-df72-46b0-a0ef-aec2f9ec5d28",
   "metadata": {},
   "outputs": [],
   "source": [
    "df = pd.read_csv('data/fish.csv')"
   ]
  },
  {
   "cell_type": "code",
   "execution_count": 5,
   "id": "87db8c72-cf17-4971-82b4-4f50ef6027c2",
   "metadata": {},
   "outputs": [],
   "source": [
    "perch = df[df['Species'] =='Perch']"
   ]
  },
  {
   "cell_type": "code",
   "execution_count": 6,
   "id": "950cfa91-aafa-4160-a318-8a26800f5a11",
   "metadata": {},
   "outputs": [],
   "source": [
    "pw = perch['Weight']\n",
    "pl = perch['Length2']\n"
   ]
  },
  {
   "cell_type": "code",
   "execution_count": 8,
   "id": "dfeb27c3-3654-401f-812b-9ca7e7a1f0b5",
   "metadata": {},
   "outputs": [],
   "source": [
    "from sklearn.model_selection import train_test_split\n",
    "train_data, test_data, train_target, test_target = train_test_split(pw, pl)"
   ]
  },
  {
   "cell_type": "code",
   "execution_count": 9,
   "id": "481b7a4a-2fbc-455e-b7c5-a4bdba9eb951",
   "metadata": {},
   "outputs": [],
   "source": [
    "## 기울기 .coef_    절편 .intercept_"
   ]
  },
  {
   "cell_type": "code",
   "execution_count": null,
   "id": "209a0c63-3d9a-4b97-82f0-884763d23112",
   "metadata": {},
   "outputs": [],
   "source": []
  }
 ],
 "metadata": {
  "kernelspec": {
   "display_name": "Python 3 (ipykernel)",
   "language": "python",
   "name": "python3"
  },
  "language_info": {
   "codemirror_mode": {
    "name": "ipython",
    "version": 3
   },
   "file_extension": ".py",
   "mimetype": "text/x-python",
   "name": "python",
   "nbconvert_exporter": "python",
   "pygments_lexer": "ipython3",
   "version": "3.12.4"
  }
 },
 "nbformat": 4,
 "nbformat_minor": 5
}
