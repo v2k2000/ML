{
 "cells": [
  {
   "cell_type": "code",
   "execution_count": 1,
   "id": "e2a5b819-100a-41e0-8365-7bcbb415c4e8",
   "metadata": {},
   "outputs": [],
   "source": [
    "import pandas as pd"
   ]
  },
  {
   "cell_type": "code",
   "execution_count": 3,
   "id": "9eb35e28-30af-45c5-ac42-7d8ec83ecd84",
   "metadata": {},
   "outputs": [],
   "source": [
    "df = pd.read_csv('data/Fish.csv')\n",
    "# df.head()"
   ]
  },
  {
   "cell_type": "code",
   "execution_count": 7,
   "id": "3ac850fb-3ed4-4ebd-8758-3a121ff40f72",
   "metadata": {},
   "outputs": [],
   "source": [
    "perch_df = df.loc[df['Species'] == 'Perch']\n",
    "# perch_df.head()"
   ]
  },
  {
   "cell_type": "code",
   "execution_count": 8,
   "id": "d174baa7-d95d-40be-b0d2-bc68b83bb1b7",
   "metadata": {},
   "outputs": [],
   "source": [
    "perch_full = perch_df[  ['Length2', 'Height', 'Width']  ]\n",
    "perch_weight = perch_df[  ['Weight']  ]"
   ]
  },
  {
   "cell_type": "code",
   "execution_count": 11,
   "id": "cb9d21f2-8f0e-4483-82e9-ab785cb2b499",
   "metadata": {},
   "outputs": [
    {
     "data": {
      "text/html": [
       "<div>\n",
       "<style scoped>\n",
       "    .dataframe tbody tr th:only-of-type {\n",
       "        vertical-align: middle;\n",
       "    }\n",
       "\n",
       "    .dataframe tbody tr th {\n",
       "        vertical-align: top;\n",
       "    }\n",
       "\n",
       "    .dataframe thead th {\n",
       "        text-align: right;\n",
       "    }\n",
       "</style>\n",
       "<table border=\"1\" class=\"dataframe\">\n",
       "  <thead>\n",
       "    <tr style=\"text-align: right;\">\n",
       "      <th></th>\n",
       "      <th>Weight</th>\n",
       "    </tr>\n",
       "  </thead>\n",
       "  <tbody>\n",
       "    <tr>\n",
       "      <th>72</th>\n",
       "      <td>5.9</td>\n",
       "    </tr>\n",
       "    <tr>\n",
       "      <th>73</th>\n",
       "      <td>32.0</td>\n",
       "    </tr>\n",
       "    <tr>\n",
       "      <th>74</th>\n",
       "      <td>40.0</td>\n",
       "    </tr>\n",
       "    <tr>\n",
       "      <th>75</th>\n",
       "      <td>51.5</td>\n",
       "    </tr>\n",
       "    <tr>\n",
       "      <th>76</th>\n",
       "      <td>70.0</td>\n",
       "    </tr>\n",
       "  </tbody>\n",
       "</table>\n",
       "</div>"
      ],
      "text/plain": [
       "    Weight\n",
       "72     5.9\n",
       "73    32.0\n",
       "74    40.0\n",
       "75    51.5\n",
       "76    70.0"
      ]
     },
     "execution_count": 11,
     "metadata": {},
     "output_type": "execute_result"
    }
   ],
   "source": [
    "perch_weight.head()"
   ]
  },
  {
   "cell_type": "code",
   "execution_count": 12,
   "id": "b2f65197-20bc-4b22-9b07-f83e94bd4dc0",
   "metadata": {},
   "outputs": [],
   "source": [
    "from sklearn.model_selection import train_test_split"
   ]
  },
  {
   "cell_type": "code",
   "execution_count": 14,
   "id": "fdbd9cf0-44ae-4b7b-9c55-3e03a52ea346",
   "metadata": {},
   "outputs": [],
   "source": [
    "train_input, test_input, train_target, test_target =\\\n",
    "train_test_split(perch_full, perch_weight, random_state=42)"
   ]
  },
  {
   "cell_type": "code",
   "execution_count": 17,
   "id": "d4a330d3-8491-4e09-b36b-bc5f216af7b9",
   "metadata": {},
   "outputs": [
    {
     "data": {
      "text/html": [
       "<div>\n",
       "<style scoped>\n",
       "    .dataframe tbody tr th:only-of-type {\n",
       "        vertical-align: middle;\n",
       "    }\n",
       "\n",
       "    .dataframe tbody tr th {\n",
       "        vertical-align: top;\n",
       "    }\n",
       "\n",
       "    .dataframe thead th {\n",
       "        text-align: right;\n",
       "    }\n",
       "</style>\n",
       "<table border=\"1\" class=\"dataframe\">\n",
       "  <thead>\n",
       "    <tr style=\"text-align: right;\">\n",
       "      <th></th>\n",
       "      <th>Length2</th>\n",
       "      <th>Height</th>\n",
       "      <th>Width</th>\n",
       "    </tr>\n",
       "  </thead>\n",
       "  <tbody>\n",
       "    <tr>\n",
       "      <th>80</th>\n",
       "      <td>19.6</td>\n",
       "      <td>5.1376</td>\n",
       "      <td>3.0368</td>\n",
       "    </tr>\n",
       "    <tr>\n",
       "      <th>89</th>\n",
       "      <td>22.0</td>\n",
       "      <td>5.8750</td>\n",
       "      <td>3.5250</td>\n",
       "    </tr>\n",
       "    <tr>\n",
       "      <th>78</th>\n",
       "      <td>18.7</td>\n",
       "      <td>5.1992</td>\n",
       "      <td>3.1234</td>\n",
       "    </tr>\n",
       "    <tr>\n",
       "      <th>76</th>\n",
       "      <td>17.4</td>\n",
       "      <td>4.5880</td>\n",
       "      <td>2.9415</td>\n",
       "    </tr>\n",
       "    <tr>\n",
       "      <th>113</th>\n",
       "      <td>36.0</td>\n",
       "      <td>10.6091</td>\n",
       "      <td>6.7408</td>\n",
       "    </tr>\n",
       "  </tbody>\n",
       "</table>\n",
       "</div>"
      ],
      "text/plain": [
       "     Length2   Height   Width\n",
       "80      19.6   5.1376  3.0368\n",
       "89      22.0   5.8750  3.5250\n",
       "78      18.7   5.1992  3.1234\n",
       "76      17.4   4.5880  2.9415\n",
       "113     36.0  10.6091  6.7408"
      ]
     },
     "execution_count": 17,
     "metadata": {},
     "output_type": "execute_result"
    }
   ],
   "source": [
    "train_input.head()"
   ]
  },
  {
   "cell_type": "code",
   "execution_count": 18,
   "id": "5519a8a2-3fb7-473d-83b0-3f0a2cb50dac",
   "metadata": {},
   "outputs": [],
   "source": [
    "from sklearn.preprocessing import PolynomialFeatures"
   ]
  },
  {
   "cell_type": "code",
   "execution_count": 20,
   "id": "ea536af2-3280-4c91-aad3-3adc26d72935",
   "metadata": {},
   "outputs": [
    {
     "data": {
      "text/plain": [
       "array([[ 3.,  5.,  9., 15., 25.]])"
      ]
     },
     "execution_count": 20,
     "metadata": {},
     "output_type": "execute_result"
    }
   ],
   "source": [
    "poly = PolynomialFeatures(include_bias=False)\n",
    "poly.fit([[3, 5]])\n",
    "poly.transform([[3, 5]])"
   ]
  },
  {
   "cell_type": "code",
   "execution_count": 29,
   "id": "16f85182-704d-4adb-bed3-fe95bbe258dd",
   "metadata": {},
   "outputs": [
    {
     "data": {
      "text/plain": [
       "array([[  19.6       ,    5.1376    ,    3.0368    ,  384.16      ,\n",
       "         100.69696   ,   59.52128   ,   26.39493376,   15.60186368,\n",
       "           9.22215424],\n",
       "       [  22.        ,    5.875     ,    3.525     ,  484.        ,\n",
       "         129.25      ,   77.55      ,   34.515625  ,   20.709375  ,\n",
       "          12.425625  ],\n",
       "       [  18.7       ,    5.1992    ,    3.1234    ,  349.69      ,\n",
       "          97.22504   ,   58.40758   ,   27.03168064,   16.23918128,\n",
       "           9.75562756],\n",
       "       [  17.4       ,    4.588     ,    2.9415    ,  302.76      ,\n",
       "          79.8312    ,   51.1821    ,   21.049744  ,   13.495602  ,\n",
       "           8.65242225],\n",
       "       [  36.        ,   10.6091    ,    6.7408    , 1296.        ,\n",
       "         381.9276    ,  242.6688    ,  112.55300281,   71.51382128,\n",
       "          45.43838464]])"
      ]
     },
     "execution_count": 29,
     "metadata": {},
     "output_type": "execute_result"
    }
   ],
   "source": [
    "poly = PolynomialFeatures(include_bias=False)\n",
    "poly.fit(train_input)\n",
    "train_poly = poly.transform(train_input)\n",
    "# train_poly.shape\n",
    "train_poly[:5]"
   ]
  },
  {
   "cell_type": "code",
   "execution_count": 31,
   "id": "3f539619-2b95-446b-ade0-1f6ed42075f5",
   "metadata": {},
   "outputs": [
    {
     "data": {
      "text/plain": [
       "array(['Length2', 'Height', 'Width', 'Length2^2', 'Length2 Height',\n",
       "       'Length2 Width', 'Height^2', 'Height Width', 'Width^2'],\n",
       "      dtype=object)"
      ]
     },
     "execution_count": 31,
     "metadata": {},
     "output_type": "execute_result"
    }
   ],
   "source": [
    "poly.get_feature_names_out()"
   ]
  },
  {
   "cell_type": "code",
   "execution_count": 33,
   "id": "833ca18c-cf9e-41b2-8fe7-f3109fb7b91a",
   "metadata": {},
   "outputs": [],
   "source": [
    "test_poly = poly.transform(test_input)"
   ]
  },
  {
   "cell_type": "code",
   "execution_count": null,
   "id": "8d2a59a8-ef0b-4664-be33-198210756524",
   "metadata": {},
   "outputs": [],
   "source": []
  },
  {
   "cell_type": "code",
   "execution_count": 34,
   "id": "8e4b5448-fa34-4352-81fb-5e7c11174b31",
   "metadata": {},
   "outputs": [],
   "source": [
    "from sklearn.linear_model import LinearRegression"
   ]
  },
  {
   "cell_type": "code",
   "execution_count": 36,
   "id": "e3f4324f-baab-46f2-9019-97dd364058d6",
   "metadata": {},
   "outputs": [
    {
     "data": {
      "text/plain": [
       "0.9903557670312703"
      ]
     },
     "execution_count": 36,
     "metadata": {},
     "output_type": "execute_result"
    }
   ],
   "source": [
    "lr = LinearRegression()\n",
    "lr.fit(train_poly, train_target)\n",
    "lr.score(train_poly, train_target)"
   ]
  },
  {
   "cell_type": "code",
   "execution_count": 38,
   "id": "d77ad710-a6f5-437e-b39b-b8298d35526a",
   "metadata": {},
   "outputs": [
    {
     "data": {
      "text/plain": [
       "0.971237620746181"
      ]
     },
     "execution_count": 38,
     "metadata": {},
     "output_type": "execute_result"
    }
   ],
   "source": [
    "lr.score(test_poly, test_target)"
   ]
  },
  {
   "cell_type": "code",
   "execution_count": 39,
   "id": "a7612664-89ec-4e08-901c-b70904f5fe47",
   "metadata": {},
   "outputs": [
    {
     "data": {
      "text/plain": [
       "(42, 55)"
      ]
     },
     "execution_count": 39,
     "metadata": {},
     "output_type": "execute_result"
    }
   ],
   "source": [
    "poly = PolynomialFeatures(degree=5, include_bias=False)\n",
    "poly.fit(train_input)\n",
    "train_poly = poly.transform(train_input)\n",
    "test_poly = poly.transform(test_input)\n",
    "train_poly.shape"
   ]
  },
  {
   "cell_type": "code",
   "execution_count": 44,
   "id": "7b936859-23de-42b6-b395-e06553c651d3",
   "metadata": {},
   "outputs": [
    {
     "data": {
      "text/plain": [
       "array(['Length2', 'Height', 'Width', 'Length2^2', 'Length2 Height',\n",
       "       'Length2 Width', 'Height^2', 'Height Width', 'Width^2',\n",
       "       'Length2^3', 'Length2^2 Height', 'Length2^2 Width',\n",
       "       'Length2 Height^2', 'Length2 Height Width', 'Length2 Width^2',\n",
       "       'Height^3', 'Height^2 Width', 'Height Width^2', 'Width^3',\n",
       "       'Length2^4', 'Length2^3 Height', 'Length2^3 Width',\n",
       "       'Length2^2 Height^2', 'Length2^2 Height Width',\n",
       "       'Length2^2 Width^2', 'Length2 Height^3', 'Length2 Height^2 Width',\n",
       "       'Length2 Height Width^2', 'Length2 Width^3', 'Height^4',\n",
       "       'Height^3 Width', 'Height^2 Width^2', 'Height Width^3', 'Width^4',\n",
       "       'Length2^5', 'Length2^4 Height', 'Length2^4 Width',\n",
       "       'Length2^3 Height^2', 'Length2^3 Height Width',\n",
       "       'Length2^3 Width^2', 'Length2^2 Height^3',\n",
       "       'Length2^2 Height^2 Width', 'Length2^2 Height Width^2',\n",
       "       'Length2^2 Width^3', 'Length2 Height^4', 'Length2 Height^3 Width',\n",
       "       'Length2 Height^2 Width^2', 'Length2 Height Width^3',\n",
       "       'Length2 Width^4', 'Height^5', 'Height^4 Width',\n",
       "       'Height^3 Width^2', 'Height^2 Width^3', 'Height Width^4',\n",
       "       'Width^5'], dtype=object)"
      ]
     },
     "execution_count": 44,
     "metadata": {},
     "output_type": "execute_result"
    }
   ],
   "source": [
    "poly.get_feature_names_out()"
   ]
  },
  {
   "cell_type": "code",
   "execution_count": 42,
   "id": "759db466-386e-488d-a59b-5581779907aa",
   "metadata": {},
   "outputs": [
    {
     "data": {
      "text/plain": [
       "0.9999999999994075"
      ]
     },
     "execution_count": 42,
     "metadata": {},
     "output_type": "execute_result"
    }
   ],
   "source": [
    "lr.fit(train_poly, train_target)\n",
    "lr.score(train_poly, train_target)"
   ]
  },
  {
   "cell_type": "code",
   "execution_count": 45,
   "id": "9db8dc98-858a-4e5a-aeb5-3b6353e2757e",
   "metadata": {},
   "outputs": [
    {
     "data": {
      "text/plain": [
       "-129.88033371789092"
      ]
     },
     "execution_count": 45,
     "metadata": {},
     "output_type": "execute_result"
    }
   ],
   "source": [
    "lr.score(test_poly, test_target)"
   ]
  },
  {
   "cell_type": "code",
   "execution_count": 47,
   "id": "6bccb5e9-a541-4cab-8e62-e1e6f1f316c5",
   "metadata": {},
   "outputs": [],
   "source": [
    "from sklearn.preprocessing import StandardScaler"
   ]
  },
  {
   "cell_type": "code",
   "execution_count": 50,
   "id": "81f039cb-c46d-456c-b3f5-d4b1b2887ef3",
   "metadata": {},
   "outputs": [],
   "source": [
    "ss = StandardScaler()\n",
    "ss.fit(train_poly)\n",
    "train_scaled = ss.transform(train_poly)\n",
    "test_scaled = ss.transform(test_poly)\n",
    "# train_scaled[:5]"
   ]
  },
  {
   "cell_type": "markdown",
   "id": "d2bd492d-a577-4595-abed-8ebde9a89c54",
   "metadata": {},
   "source": [
    "- 릿지 : 계수를 제곱한 값을 기준으로 규제\n",
    "    - L2 norm : 모든계수를 작게 만들지만 0은 되지 않음\n",
    "- 라쏘 : 계수의 절댓값을 기준으로 규제\n",
    "    - L1 norm : 불필요한 특성의 가중치를 0으로 만듬"
   ]
  },
  {
   "cell_type": "code",
   "execution_count": 51,
   "id": "00f122c5-f211-46bf-a32c-86ed63d44ae9",
   "metadata": {},
   "outputs": [
    {
     "data": {
      "text/plain": [
       "0.9896217956447125"
      ]
     },
     "execution_count": 51,
     "metadata": {},
     "output_type": "execute_result"
    }
   ],
   "source": [
    "from sklearn.linear_model import Ridge\n",
    "ridge = Ridge()\n",
    "ridge.fit(train_scaled, train_target)\n",
    "ridge.score(train_scaled, train_target)"
   ]
  },
  {
   "cell_type": "code",
   "execution_count": 55,
   "id": "c0772430-8ac9-4cce-95a1-43cc56c463a2",
   "metadata": {},
   "outputs": [
    {
     "data": {
      "text/plain": [
       "0.9788853860988026"
      ]
     },
     "execution_count": 55,
     "metadata": {},
     "output_type": "execute_result"
    }
   ],
   "source": [
    "ridge.score(test_scaled, test_target)"
   ]
  },
  {
   "cell_type": "code",
   "execution_count": 70,
   "id": "6295b35a-d133-458c-8ff8-1400caefea94",
   "metadata": {},
   "outputs": [],
   "source": [
    "import matplotlib.pyplot as plt"
   ]
  },
  {
   "cell_type": "code",
   "execution_count": 71,
   "id": "e068d80e-97e7-44af-8f45-614ebe3966c5",
   "metadata": {},
   "outputs": [],
   "source": [
    "train_score = []\n",
    "test_score = []"
   ]
  },
  {
   "cell_type": "code",
   "execution_count": 72,
   "id": "93f730c2-94d9-4876-86b5-42f2a4c3f7a0",
   "metadata": {},
   "outputs": [],
   "source": [
    "alpha_list = [0.001, 0.01, 0.1, 1, 10, 100]\n",
    "for alpha in alpha_list:\n",
    "    ridge = Ridge(alpha=alpha)\n",
    "\n",
    "    ridge.fit(train_scaled, train_target)\n",
    "\n",
    "    train_score.append(ridge.score(train_scaled, train_target))\n",
    "    test_score.append(ridge.score(test_scaled, test_target))"
   ]
  },
  {
   "cell_type": "code",
   "execution_count": 73,
   "id": "1e0a0f0e-fff0-42dd-8c3b-12fb34f5fb9a",
   "metadata": {},
   "outputs": [
    {
     "name": "stdout",
     "output_type": "stream",
     "text": [
      "[0.9930679875694741, 0.9918120087949357, 0.9904048455941407, 0.9896217956447125, 0.9887366307205133, 0.9841994538470815] [0.9560293715548911, 0.9796497117196328, 0.9826465162736704, 0.9788853860988026, 0.9722857046398284, 0.9624191421271446]\n"
     ]
    }
   ],
   "source": [
    "print(train_score, test_score)"
   ]
  },
  {
   "cell_type": "code",
   "execution_count": 75,
   "id": "624637c8-6c66-4d26-92a5-da4608121c40",
   "metadata": {},
   "outputs": [
    {
     "data": {
      "image/png": "[encoded data removed]",
      "text/plain": [
       "<Figure size 640x480 with 1 Axes>"
      ]
     },
     "metadata": {},
     "output_type": "display_data"
    }
   ],
   "source": [
    "import numpy as np\n",
    "plt.plot(np.log10(alpha_list), train_score)\n",
    "plt.plot(np.log10(alpha_list), test_score)\n",
    "plt.show()"
   ]
  },
  {
   "cell_type": "code",
   "execution_count": 78,
   "id": "ae557776-2412-40ea-b045-191f4e2dfff7",
   "metadata": {},
   "outputs": [
    {
     "data": {
      "text/plain": [
       "0.9826465162736704"
      ]
     },
     "execution_count": 78,
     "metadata": {},
     "output_type": "execute_result"
    }
   ],
   "source": [
    "ridge = Ridge(alpha=0.1)\n",
    "ridge.fit(train_scaled, train_target)\n",
    "\n",
    "ridge.score(train_scaled, train_target)\n",
    "ridge.score(test_scaled, test_target)"
   ]
  },
  {
   "cell_type": "code",
   "execution_count": null,
   "id": "e7fc558c-1f26-4d5a-bd0d-f44aa12e1394",
   "metadata": {},
   "outputs": [],
   "source": []
  },
  {
   "cell_type": "code",
   "execution_count": 79,
   "id": "9a983959-0d61-4f9b-a2ca-e4e936a99df6",
   "metadata": {},
   "outputs": [],
   "source": [
    "from sklearn.linear_model import Lasso"
   ]
  },
  {
   "cell_type": "code",
   "execution_count": 81,
   "id": "242272f3-deb5-45cf-9362-4fcb70222912",
   "metadata": {},
   "outputs": [
    {
     "data": {
      "text/plain": [
       "0.9898014198970121"
      ]
     },
     "execution_count": 81,
     "metadata": {},
     "output_type": "execute_result"
    }
   ],
   "source": [
    "lasso = Lasso()\n",
    "lasso.fit(train_scaled, train_target)\n",
    "\n",
    "lasso.score(train_scaled, train_target)"
   ]
  },
  {
   "cell_type": "code",
   "execution_count": 83,
   "id": "e44fa252-6c8a-4a17-a5b4-1149df4702ba",
   "metadata": {},
   "outputs": [
    {
     "data": {
      "text/plain": [
       "0.9798798667260246"
      ]
     },
     "execution_count": 83,
     "metadata": {},
     "output_type": "execute_result"
    }
   ],
   "source": [
    "lasso.score(test_scaled, test_target)"
   ]
  },
  {
   "cell_type": "code",
   "execution_count": 84,
   "id": "3c338347-7ef8-48d2-8b58-6aef2523c86c",
   "metadata": {},
   "outputs": [
    {
     "data": {
      "text/plain": [
       "array([ 0.        ,  0.        ,  0.        , 95.7685471 , 11.46652141,\n",
       "        0.        , 10.59590887,  0.        , 31.43846725,  0.        ,\n",
       "       22.04978402,  0.        , 29.29490849,  0.        ,  0.        ,\n",
       "       18.62846362,  0.        ,  0.        , 41.66512381,  0.        ,\n",
       "        0.        ,  0.        ,  0.        ,  0.        ,  0.        ,\n",
       "        5.98289456,  0.        ,  0.        ,  0.        , 20.52247113,\n",
       "        0.        ,  0.        ,  0.        ,  9.14669521,  0.        ,\n",
       "        0.        ,  0.        ,  0.        ,  0.        ,  0.        ,\n",
       "        0.        ,  0.        ,  0.        ,  0.        , 35.34452564,\n",
       "        0.        ,  0.        ,  0.        ,  0.        , 21.08199235,\n",
       "        0.        ,  0.        ,  0.        ,  0.        ,  0.        ])"
      ]
     },
     "execution_count": 84,
     "metadata": {},
     "output_type": "execute_result"
    }
   ],
   "source": [
    "lasso.coef_"
   ]
  }
 ],
 "metadata": {
  "kernelspec": {
   "display_name": "Python 3 (ipykernel)",
   "language": "python",
   "name": "python3"
  },
  "language_info": {
   "codemirror_mode": {
    "name": "ipython",
    "version": 3
   },
   "file_extension": ".py",
   "mimetype": "text/x-python",
   "name": "python",
   "nbconvert_exporter": "python",
   "pygments_lexer": "ipython3",
   "version": "3.12.4"
  }
 },
 "nbformat": 4,
 "nbformat_minor": 5
}
