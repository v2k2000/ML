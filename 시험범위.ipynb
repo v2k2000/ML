{
 "cells": [
  {
   "cell_type": "markdown",
   "id": "c4ee08aa-295c-4a4a-8e8d-cdf2f6811020",
   "metadata": {
    "scrolled": true
   },
   "source": [
    "## 시험범위 : 파이썬 4 판다스 4 머신러닝 3 (개념파악 읽을수 있는지)   실습 : 판다스 1 (9번 타이타닉연습문제) 파이썬 1 (oop파트)"
   ]
  },
  {
   "cell_type": "code",
   "execution_count": null,
   "id": "2292db4b-b33b-4e7f-b97b-f7d74eab2012",
   "metadata": {},
   "outputs": [],
   "source": []
  }
 ],
 "metadata": {
  "kernelspec": {
   "display_name": "Python 3 (ipykernel)",
   "language": "python",
   "name": "python3"
  },
  "language_info": {
   "codemirror_mode": {
    "name": "ipython",
    "version": 3
   },
   "file_extension": ".py",
   "mimetype": "text/x-python",
   "name": "python",
   "nbconvert_exporter": "python",
   "pygments_lexer": "ipython3",
   "version": "3.12.4"
  }
 },
 "nbformat": 4,
 "nbformat_minor": 5
}
