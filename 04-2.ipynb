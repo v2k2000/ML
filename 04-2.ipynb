{
 "cells": [
  {
   "cell_type": "raw",
   "id": "bc598c70-0ce1-43ea-a00d-5077da13c4d2",
   "metadata": {},
   "source": [
    "### 점진적 학습의 대표 '확률적 경사 하강법'"
   ]
  },
  {
   "cell_type": "code",
   "execution_count": 1,
   "id": "f8665e01-82d5-497e-8718-6803de3507fa",
   "metadata": {},
   "outputs": [
    {
     "ename": "ImportError",
     "evalue": "cannot import name 'StandrdScaler' from 'sklearn.preprocessing' (C:\\Users\\이시운\\Desktop\\DMF\\ML\\venv\\Lib\\site-packages\\sklearn\\preprocessing\\__init__.py)",
     "output_type": "error",
     "traceback": [
      "\u001b[1;31m----------------------------------------------\u001b[0m",
      "\u001b[1;31mImportError\u001b[0m  Traceback (most recent call last)",
      "Cell \u001b[1;32mIn[1], line 1\u001b[0m\n\u001b[1;32m----> 1\u001b[0m \u001b[38;5;28;01mfrom\u001b[39;00m \u001b[38;5;21;01msklearn\u001b[39;00m\u001b[38;5;21;01m.\u001b[39;00m\u001b[38;5;21;01mpreprocessing\u001b[39;00m \u001b[38;5;28;01mimport\u001b[39;00m StandrdScaler\n",
      "\u001b[1;31mImportError\u001b[0m: cannot import name 'StandrdScaler' from 'sklearn.preprocessing' (C:\\Users\\이시운\\Desktop\\DMF\\ML\\venv\\Lib\\site-packages\\sklearn\\preprocessing\\__init__.py)"
     ]
    }
   ],
   "source": [
    "from sklearn.preprocessing import StandrdScaler"
   ]
  },
  {
   "cell_type": "code",
   "execution_count": 2,
   "id": "a9bb9e32-fbb2-414b-9d95-6667156679dd",
   "metadata": {},
   "outputs": [],
   "source": [
    "from sklearn.linear_model import SGDClassifier"
   ]
  },
  {
   "cell_type": "code",
   "execution_count": 4,
   "id": "6cfd31f5-5eba-4858-86f5-1eed5612d64b",
   "metadata": {},
   "outputs": [],
   "source": [
    "import numpy as np\n",
    "\n",
    "sc = SGDClassifier(loss = 'log_loss' , random_state=42)\n"
   ]
  },
  {
   "cell_type": "code",
   "execution_count": 5,
   "id": "7e3edb78-5c7b-4359-adde-8eb0c6cd899a",
   "metadata": {},
   "outputs": [
    {
     "ename": "SyntaxError",
     "evalue": "incomplete input (1369081446.py, line 2)",
     "output_type": "error",
     "traceback": [
      "\u001b[1;36m  Cell \u001b[1;32mIn[5], line 2\u001b[1;36m\u001b[0m\n\u001b[1;33m    sc.partial_fit(\u001b[0m\n\u001b[1;37m                   ^\u001b[0m\n\u001b[1;31mSyntaxError\u001b[0m\u001b[1;31m:\u001b[0m incomplete input\n"
     ]
    }
   ],
   "source": [
    "for _ in range(300):\n",
    "    sc.partial_fit("
   ]
  },
  {
   "cell_type": "code",
   "execution_count": 6,
   "id": "1278df91-941d-4da4-a838-e38caeda7318",
   "metadata": {},
   "outputs": [],
   "source": [
    "import matplotlib.pyplot as plt"
   ]
  },
  {
   "cell_type": "code",
   "execution_count": null,
   "id": "e3ff571e-306b-4188-8865-17de02288c83",
   "metadata": {},
   "outputs": [],
   "source": []
  }
 ],
 "metadata": {
  "kernelspec": {
   "display_name": "Python 3 (ipykernel)",
   "language": "python",
   "name": "python3"
  },
  "language_info": {
   "codemirror_mode": {
    "name": "ipython",
    "version": 3
   },
   "file_extension": ".py",
   "mimetype": "text/x-python",
   "name": "python",
   "nbconvert_exporter": "python",
   "pygments_lexer": "ipython3",
   "version": "3.12.4"
  }
 },
 "nbformat": 4,
 "nbformat_minor": 5
}
